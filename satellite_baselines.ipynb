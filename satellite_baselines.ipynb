{
 "cells": [
  {
   "cell_type": "code",
   "execution_count": 1,
   "id": "52a65fd6",
   "metadata": {},
   "outputs": [],
   "source": [
    "from matplotlib import pyplot as plt\n",
    "from pathlib import Path\n",
    "from sklearn.metrics import mean_squared_error\n",
    "from rasterio.plot import reshape_as_image\n",
    "from tqdm import tqdm\n",
    "\n",
    "import numpy as np\n",
    "import progressbar\n",
    "import pandas as pd\n",
    "import torch\n",
    "import xarray as xr\n",
    "\n",
    "from data.satellite import SatelliteData, BANDS_WITH_NO_AIR, RGB_BANDS, Normalization\n",
    "\n",
    "%matplotlib inline "
   ]
  },
  {
   "cell_type": "markdown",
   "id": "c3e34488",
   "metadata": {},
   "source": [
    "Band info for reference: https://docs.sentinel-hub.com/api/latest/data/sentinel-2-l1c/"
   ]
  },
  {
   "cell_type": "markdown",
   "id": "17af6502",
   "metadata": {},
   "source": [
    "## Load test data"
   ]
  },
  {
   "cell_type": "code",
   "execution_count": 2,
   "id": "c5690e4a",
   "metadata": {},
   "outputs": [
    {
     "name": "stdout",
     "output_type": "stream",
     "text": [
      "Using: 556 for testing\n",
      "Using: 556 for testing\n",
      "Using: 556 for testing\n",
      "Using: 556 for testing\n",
      "Using: 556 for testing\n",
      "Using: 556 for testing\n"
     ]
    }
   ],
   "source": [
    "kwargs = {\n",
    "    \"data_root\": \"../Arizona-processed4\",\n",
    "    \"seq_len\": 60,\n",
    "    \"bands_to_keep\": BANDS_WITH_NO_AIR,\n",
    "    \"use_cache\": False,\n",
    "}\n",
    "\n",
    "test_data_z = SatelliteData(train=False, **kwargs, normalization=Normalization.Z)\n",
    "test_data_minmax = SatelliteData(train=False, **kwargs, normalization=Normalization.MINMAX)\n",
    "test_data_unnormalized = SatelliteData(train=False, normalization=Normalization.SKIP, **kwargs)\n",
    "test_data_clipped5 = SatelliteData(train=False, **kwargs, normalization=Normalization.CLIP5_MINMAX)\n",
    "test_data_clipped4 = SatelliteData(train=False, **kwargs, normalization=Normalization.CLIP4_MINMAX)\n",
    "test_data_clipped3 = SatelliteData(train=False, **kwargs, normalization=Normalization.CLIP3_MINMAX)"
   ]
  },
  {
   "cell_type": "code",
   "execution_count": 3,
   "id": "0ae5b4da",
   "metadata": {},
   "outputs": [],
   "source": [
    "def check_data(tile, month=7, for_viewing=True):\n",
    "    tile_np = tile.numpy()\n",
    "    print(f\"Mean: {tile_np.mean()}\\nMax: {tile_np.max()}\\nMin: {tile_np.min()}\\nSTD: {tile_np.std()}\")\n",
    "    \n",
    "    # Visualize image as test\n",
    "    if for_viewing:\n",
    "        img = test_data_unnormalized.for_viewing(tile_np[month])\n",
    "    else:\n",
    "        img = tile_np[month]\n",
    "    \n",
    "    plt.imshow(reshape_as_image(img))\n",
    "    plt.show()"
   ]
  },
  {
   "cell_type": "code",
   "execution_count": 4,
   "id": "b3cb8172",
   "metadata": {},
   "outputs": [
    {
     "name": "stdout",
     "output_type": "stream",
     "text": [
      "Mean: 0.22674199311835666\n",
      "Max: 0.8221\n",
      "Min: -0.1963867514218802\n",
      "STD: 0.10172539252458089\n"
     ]
    },
    {
     "data": {
      "image/png": "[encoded data removed]",
      "text/plain": [
       "<Figure size 432x288 with 1 Axes>"
      ]
     },
     "metadata": {
      "needs_background": "light"
     },
     "output_type": "display_data"
    }
   ],
   "source": [
    "check_data(test_data_unnormalized[2])"
   ]
  },
  {
   "cell_type": "markdown",
   "id": "05897797",
   "metadata": {},
   "source": [
    "## Baseline - utility code"
   ]
  },
  {
   "cell_type": "code",
   "execution_count": null,
   "id": "071f0a5f",
   "metadata": {},
   "outputs": [
    {
     "name": "stderr",
     "output_type": "stream",
     "text": [
      " 95%|█████████▌| 529/556 [00:46<00:02, 11.78it/s]"
     ]
    }
   ],
   "source": [
    "loaded_test_data = np.array([t.numpy() for t in tqdm(test_data_unnormalized)])"
   ]
  },
  {
   "cell_type": "code",
   "execution_count": 6,
   "id": "28862fc2",
   "metadata": {},
   "outputs": [],
   "source": [
    "def compute_mse(loaded_test_data, forecast_months=7, baseline_type=\"all_years\"):\n",
    "    \"\"\"\n",
    "    Computes mean squared error\n",
    "    \"\"\"\n",
    "    total_mse_per_bands = 0\n",
    "\n",
    "    for test_inst in tqdm(loaded_test_data):\n",
    "        \n",
    "        s = test_inst.shape\n",
    "        test_inst_by_year = test_inst.reshape(-1, 12, s[1], s[2], s[3])\n",
    "\n",
    "        # Set y to be latest 7 months\n",
    "        Y_true = test_inst_by_year[-1][-forecast_months:]\n",
    "        \n",
    "        if baseline_type == \"all_years\":\n",
    "            # Set y pred to be average of all past year's 7 months\n",
    "            Y_pred = test_inst_by_year[:-1].mean(axis=0)[-forecast_months:]\n",
    "        elif baseline_type == \"last_year\":\n",
    "            # Set y pred to be last year's 7 months\n",
    "            Y_pred = test_inst_by_year[-2][-forecast_months:]\n",
    "        elif baseline_type == \"last_month\":\n",
    "            Y_pred = test_inst_by_year[-1][-(forecast_months+1)]\n",
    "        else:\n",
    "            raise ValueError(\"baseline_type must be 'all_years', 'last_year', or 'last_month'\")\n",
    "        \n",
    "        # Calculate mean squared loss per band\n",
    "        total_mse_per_bands += ((Y_true - Y_pred)**2).mean(axis=(0,-2,-1))\n",
    "        \n",
    "    mean_mse_per_bands = total_mse_per_bands / len(loaded_test_data)\n",
    "        \n",
    "    return mean_mse_per_bands"
   ]
  },
  {
   "cell_type": "code",
   "execution_count": 22,
   "id": "98bdbc4a",
   "metadata": {},
   "outputs": [],
   "source": [
    "def plot_mses(mses, title):\n",
    "    df = pd.DataFrame(mses)\n",
    "    df = df.set_index(pd.Index(test_data_unnormalized.bands_to_keep))\n",
    "    df = df[df.index != \"NDVI\"]\n",
    "    df.plot(kind='bar', figsize=(15,5), \n",
    "            title=title,\n",
    "           xlabel=\"Band\",\n",
    "           ylabel=\"MSE\");"
   ]
  },
  {
   "cell_type": "code",
   "execution_count": 23,
   "id": "8b0d6968",
   "metadata": {},
   "outputs": [
    {
     "name": "stderr",
     "output_type": "stream",
     "text": [
      "100%|██████████| 556/556 [00:00<00:00, 1131.00it/s]\n",
      "100%|██████████| 556/556 [00:00<00:00, 1001.42it/s]\n",
      "100%|██████████| 556/556 [00:02<00:00, 223.56it/s]\n"
     ]
    },
    {
     "data": {
      "image/png": "[encoded data removed]",
      "text/plain": [
       "<Figure size 1080x360 with 1 Axes>"
      ]
     },
     "metadata": {
      "needs_background": "light"
     },
     "output_type": "display_data"
    }
   ],
   "source": [
    "mses = {\n",
    "    k: compute_mse(loaded_test_data, baseline_type=k)\n",
    "    for k in [\"last_month\", \"last_year\", \"all_years\"]\n",
    "}\n",
    "\n",
    "mses[\"DVG\"] = [0.00107829, 0.00145277, 0.0034245] + [0 for i in range(9)]\n",
    "mses[\"Forecaster\"] = [0.0006624 , 0.00078724, 0.00176056, 0.00143343, 0.00217967,\n",
    "       0.00343515, 0.00342518, 0.0038342 , 0.00111316, 0.00296902,\n",
    "       0.00329455, 0.02077617]\n",
    "\n",
    "mses[\"DVG_all_bands\"] = [#0.0006845055495803213, Don't include B1\n",
    "                0.0008893806700319805,\n",
    "                0.0012731088529349306,\n",
    "                0.0027665143017116256,\n",
    "                0.0023176277330210627,\n",
    "                0.004395468719981044,\n",
    "                0.007103412859175266,\n",
    "                0.0069412210907184285,\n",
    "                0.008013138891879192,\n",
    "                0.0011411011577793448,\n",
    "                #8.657123631574166e-05, Don't include B10\n",
    "                0.005588778481962952,\n",
    "                0.005153912937139034,\n",
    "                0.031185691694902366]\n",
    "\n",
    "plot_mses(mses, title=\"Mean Squared Error per Band (unnormalized)\")"
   ]
  },
  {
   "cell_type": "code",
   "execution_count": null,
   "id": "b1c1670b",
   "metadata": {},
   "outputs": [],
   "source": []
  }
 ],
 "metadata": {
  "kernelspec": {
   "display_name": "Python 3",
   "language": "python",
   "name": "python3"
  },
  "language_info": {
   "codemirror_mode": {
    "name": "ipython",
    "version": 3
   },
   "file_extension": ".py",
   "mimetype": "text/x-python",
   "name": "python",
   "nbconvert_exporter": "python",
   "pygments_lexer": "ipython3",
   "version": "3.7.7"
  }
 },
 "nbformat": 4,
 "nbformat_minor": 5
}
