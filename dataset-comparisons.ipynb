{
 "cells": [
  {
   "cell_type": "code",
   "execution_count": 1,
   "id": "00672a3d",
   "metadata": {},
   "outputs": [],
   "source": [
    "from torch.utils.data import DataLoader\n",
    "from tqdm import tqdm\n",
    "\n",
    "import numpy as np\n",
    "import pandas as pd\n",
    "import torch\n",
    "\n",
    "from data.satellite import SatelliteData, ALL_BANDS, RGB_BANDS, Normalization\n",
    "from data.kth import KTH\n",
    "from data.bair import RobotPush\n",
    "\n",
    "import utils"
   ]
  },
  {
   "cell_type": "code",
   "execution_count": 2,
   "id": "fd004eb5",
   "metadata": {},
   "outputs": [
    {
     "name": "stdout",
     "output_type": "stream",
     "text": [
      "Using: 2168 for training\n"
     ]
    }
   ],
   "source": [
    "eo_train_data = SatelliteData(data_root=\"../Arizona-processed4\", seq_len=15, train=True, bands_to_keep=RGB_BANDS)\n",
    "kth_train_data = KTH(data_root=\"data\", seq_len=15, image_size=64, train=True)\n",
    "bair_train_data = RobotPush(data_root=\"data/bair\", seq_len=15, image_size=64, train=True)"
   ]
  },
  {
   "cell_type": "code",
   "execution_count": 14,
   "id": "1c5365d8",
   "metadata": {},
   "outputs": [
    {
     "name": "stdout",
     "output_type": "stream",
     "text": [
      "Using: 2168 for training\n"
     ]
    }
   ],
   "source": [
    "eo_train_data_unnormed = SatelliteData(\n",
    "    data_root=\"../Arizona-processed4\", \n",
    "    seq_len=60, \n",
    "    train=True, \n",
    "    bands_to_keep=ALL_BANDS,\n",
    "    normalization=Normalization.Z\n",
    ")\n"
   ]
  },
  {
   "cell_type": "code",
   "execution_count": 15,
   "id": "38425726",
   "metadata": {},
   "outputs": [
    {
     "data": {
      "text/plain": [
       "array([-0.61095955, -1.79794701, -1.94557768, -1.76195801, -1.98504522,\n",
       "       -3.78593999, -3.60417963, -3.79372866, -3.73807109, -4.5316649 ,\n",
       "       -0.64018989, -2.60262782, -2.04602812, -3.84381163])"
      ]
     },
     "execution_count": 15,
     "metadata": {},
     "output_type": "execute_result"
    }
   ],
   "source": [
    "eo_train_data_unnormed[0].numpy().min(axis=(0,2,3))"
   ]
  },
  {
   "cell_type": "code",
   "execution_count": 16,
   "id": "4e65382a",
   "metadata": {},
   "outputs": [
    {
     "data": {
      "text/plain": [
       "array([ 7.22329046, 12.62534067,  9.98013857,  6.91259465,  4.69064942,\n",
       "        4.56465246,  4.03936434,  4.70392032,  4.04023199,  3.96229015,\n",
       "        4.9344242 ,  3.80572036,  3.04844489,  2.92709548])"
      ]
     },
     "execution_count": 16,
     "metadata": {},
     "output_type": "execute_result"
    }
   ],
   "source": [
    "eo_train_data_unnormed[0].numpy().max(axis=(0,2,3))"
   ]
  },
  {
   "cell_type": "code",
   "execution_count": 6,
   "id": "180682e7",
   "metadata": {},
   "outputs": [
    {
     "name": "stderr",
     "output_type": "stream",
     "text": [
      "100%|██████████| 2168/2168 [04:44<00:00,  7.61it/s]\n"
     ]
    }
   ],
   "source": [
    "dataset_maxs = np.zeros(len(ALL_BANDS))\n",
    "dataset_mins = np.ones(len(ALL_BANDS))\n",
    "for i in tqdm(range(len(eo_train_data_unnormed))):\n",
    "    inst = eo_train_data_unnormed[i].numpy()\n",
    "    inst_maxs = inst.max(axis=(0,2,3))\n",
    "    inst_mins = inst.min(axis=(0,2,3))\n",
    "    dataset_maxs[dataset_maxs < inst_maxs] = inst_maxs[dataset_maxs < inst_maxs]\n",
    "    dataset_mins[dataset_mins > inst_mins] = inst_mins[dataset_mins > inst_mins]"
   ]
  },
  {
   "cell_type": "code",
   "execution_count": 7,
   "id": "d992a75b",
   "metadata": {},
   "outputs": [
    {
     "data": {
      "text/plain": [
       "{'max': [2.8,\n",
       "  1.9872,\n",
       "  1.9873,\n",
       "  2.2221,\n",
       "  1.5505,\n",
       "  1.8669,\n",
       "  2.2471,\n",
       "  2.1799,\n",
       "  1.9167,\n",
       "  2.8,\n",
       "  0.4114,\n",
       "  2.2048,\n",
       "  2.2139,\n",
       "  0.9995333644423705],\n",
       " 'min': [0.0,\n",
       "  0.0,\n",
       "  0.0,\n",
       "  0.0,\n",
       "  0.0,\n",
       "  0.0,\n",
       "  0.0,\n",
       "  0.0,\n",
       "  0.0,\n",
       "  0.0,\n",
       "  0.0,\n",
       "  0.0,\n",
       "  0.0,\n",
       "  -0.8]}"
      ]
     },
     "execution_count": 7,
     "metadata": {},
     "output_type": "execute_result"
    }
   ],
   "source": [
    "{\"max\": list(dataset_maxs), \"min\": list(dataset_mins)}"
   ]
  },
  {
   "cell_type": "code",
   "execution_count": 5,
   "id": "3307f3e2",
   "metadata": {},
   "outputs": [
    {
     "name": "stdout",
     "output_type": "stream",
     "text": [
      "KTH:  torch.Size([15, 64, 64, 1])\n",
      "EO:  torch.Size([15, 3, 64, 64])\n",
      "RobotPush:  (15, 64, 64, 3)\n"
     ]
    }
   ],
   "source": [
    "# Size comparison\n",
    "print(\"KTH: \",kth_train_data[0].shape)\n",
    "print(\"EO: \", eo_train_data[0].shape)\n",
    "print(\"RobotPush: \", bair_train_data[0].shape)"
   ]
  },
  {
   "cell_type": "code",
   "execution_count": 11,
   "id": "7833f018",
   "metadata": {},
   "outputs": [],
   "source": [
    "dtype = torch.FloatTensor\n",
    "def get_training_batch(data, name):\n",
    "    if name == \"satellite\":\n",
    "        num_workers = 1\n",
    "    else:\n",
    "        num_workers = 5\n",
    "    train_loader = DataLoader(data,\n",
    "                          num_workers=num_workers,\n",
    "                          batch_size=50,\n",
    "                          shuffle=True,\n",
    "                          drop_last=True,\n",
    "                          pin_memory=True)\n",
    "    while True:\n",
    "        for sequence in train_loader:\n",
    "            torch_batch = utils.normalize_data(name, dtype, sequence)\n",
    "            np_batch = np.array([item.numpy() for item in torch_batch])\n",
    "            yield np_batch\n",
    "            \n",
    "kth_batch_gen = get_training_batch(kth_train_data, \"kth\")\n",
    "eo_batch_gen = get_training_batch(eo_train_data, \"satellite\")\n",
    "eo_unnormed_batch_gen = get_training_batch(eo_train_data_unnormed, \"satellite\")\n",
    "bair_batch_gen = get_training_batch(bair_train_data, \"bair\")"
   ]
  },
  {
   "cell_type": "code",
   "execution_count": 5,
   "id": "b087ca7d",
   "metadata": {},
   "outputs": [],
   "source": [
    "s = next(eo_batch_gen)"
   ]
  },
  {
   "cell_type": "code",
   "execution_count": 6,
   "id": "eb81dce6",
   "metadata": {},
   "outputs": [],
   "source": [
    "s2 = next(eo_batch_gen)"
   ]
  },
  {
   "cell_type": "code",
   "execution_count": 8,
   "id": "094a9de4",
   "metadata": {},
   "outputs": [],
   "source": [
    "t1 = next(eo_batch_gen)"
   ]
  },
  {
   "cell_type": "code",
   "execution_count": 9,
   "id": "1fdc3d1b",
   "metadata": {},
   "outputs": [],
   "source": [
    "t2 = next(eo_batch_gen)"
   ]
  },
  {
   "cell_type": "code",
   "execution_count": 13,
   "id": "7de1747a",
   "metadata": {},
   "outputs": [
    {
     "data": {
      "text/plain": [
       "True"
      ]
     },
     "execution_count": 13,
     "metadata": {},
     "output_type": "execute_result"
    }
   ],
   "source": [
    "(s != s2).any()"
   ]
  },
  {
   "cell_type": "code",
   "execution_count": 15,
   "id": "ff4a707b",
   "metadata": {},
   "outputs": [
    {
     "data": {
      "text/plain": [
       "False"
      ]
     },
     "execution_count": 15,
     "metadata": {},
     "output_type": "execute_result"
    }
   ],
   "source": [
    "(s2 != t2).any()"
   ]
  },
  {
   "cell_type": "code",
   "execution_count": 11,
   "id": "0f1deaea",
   "metadata": {},
   "outputs": [],
   "source": [
    "kth_batch = next(kth_batch_gen)\n",
    "kth_batch2 = next(kth_batch_gen)\n",
    "assert (kth_batch != kth_batch2).any()"
   ]
  },
  {
   "cell_type": "code",
   "execution_count": 12,
   "id": "6a25066c",
   "metadata": {},
   "outputs": [
    {
     "ename": "AssertionError",
     "evalue": "",
     "output_type": "error",
     "traceback": [
      "\u001b[0;31m---------------------------------------------------------------------------\u001b[0m",
      "\u001b[0;31mAssertionError\u001b[0m                            Traceback (most recent call last)",
      "\u001b[0;32m<ipython-input-12-455840471a71>\u001b[0m in \u001b[0;36m<module>\u001b[0;34m\u001b[0m\n\u001b[1;32m      1\u001b[0m \u001b[0mbair_batch\u001b[0m \u001b[0;34m=\u001b[0m \u001b[0mnext\u001b[0m\u001b[0;34m(\u001b[0m\u001b[0mbair_batch_gen\u001b[0m\u001b[0;34m)\u001b[0m\u001b[0;34m\u001b[0m\u001b[0;34m\u001b[0m\u001b[0m\n\u001b[1;32m      2\u001b[0m \u001b[0mbair_batch2\u001b[0m \u001b[0;34m=\u001b[0m \u001b[0mnext\u001b[0m\u001b[0;34m(\u001b[0m\u001b[0mbair_batch_gen\u001b[0m\u001b[0;34m)\u001b[0m\u001b[0;34m\u001b[0m\u001b[0;34m\u001b[0m\u001b[0m\n\u001b[0;32m----> 3\u001b[0;31m \u001b[0;32massert\u001b[0m \u001b[0;34m(\u001b[0m\u001b[0mbair_batch\u001b[0m \u001b[0;34m!=\u001b[0m \u001b[0mbair_batch2\u001b[0m\u001b[0;34m)\u001b[0m\u001b[0;34m.\u001b[0m\u001b[0many\u001b[0m\u001b[0;34m(\u001b[0m\u001b[0;34m)\u001b[0m\u001b[0;34m\u001b[0m\u001b[0;34m\u001b[0m\u001b[0m\n\u001b[0m",
      "\u001b[0;31mAssertionError\u001b[0m: "
     ]
    }
   ],
   "source": [
    "bair_batch = next(bair_batch_gen)\n",
    "bair_batch2 = next(bair_batch_gen)\n",
    "assert (bair_batch != bair_batch2).any()"
   ]
  },
  {
   "cell_type": "code",
   "execution_count": 15,
   "id": "cbdbbc52",
   "metadata": {},
   "outputs": [
    {
     "data": {
      "text/plain": [
       "(15, 50, 3, 64, 64)"
      ]
     },
     "execution_count": 15,
     "metadata": {},
     "output_type": "execute_result"
    }
   ],
   "source": [
    "bair_batch.shape"
   ]
  },
  {
   "cell_type": "code",
   "execution_count": 12,
   "id": "4dc541ed",
   "metadata": {},
   "outputs": [],
   "source": [
    "eo_batch = next(eo_batch_gen)\n",
    "eo_batch2 = next(eo_batch_gen)\n",
    "assert (eo_batch != eo_batch2).any()"
   ]
  },
  {
   "cell_type": "code",
   "execution_count": 13,
   "id": "395b9f3a",
   "metadata": {},
   "outputs": [],
   "source": [
    "eo_u_batch = next(eo_unnormed_batch_gen)\n",
    "eo_u_batch2 = next(eo_unnormed_batch_gen)\n",
    "assert (eo_u_batch != eo_u_batch2).any()"
   ]
  },
  {
   "cell_type": "code",
   "execution_count": 14,
   "id": "2b977a32",
   "metadata": {},
   "outputs": [],
   "source": [
    "def batch_stats(batch):\n",
    "    axis = (0,1,3,4)\n",
    "    return {\n",
    "        \"Shape\": batch.shape,\n",
    "        \"Max\": batch.max(axis=axis),\n",
    "        \"Min\": batch.min(axis=axis),\n",
    "        \"Mean\": batch.mean(axis=axis),\n",
    "        \"Variance\": batch.var(axis=axis),\n",
    "        \"Std\": batch.std(axis=axis),\n",
    "    }"
   ]
  },
  {
   "cell_type": "code",
   "execution_count": 15,
   "id": "27f8667c",
   "metadata": {},
   "outputs": [],
   "source": [
    "stats = { \n",
    "    \"kth1\": batch_stats(kth_batch),\n",
    "    #\"kth2\": batch_stats(kth_batch2),\n",
    "    \"eo1\": batch_stats(eo_batch),\n",
    "    #\"eo2\": batch_stats(eo_batch2),\n",
    "    \"eo_u1\": batch_stats(eo_u_batch),\n",
    "    #\"eo_u2\": batch_stats(eo_u_batch2)\n",
    "}"
   ]
  },
  {
   "cell_type": "code",
   "execution_count": 16,
   "id": "022439da",
   "metadata": {},
   "outputs": [
    {
     "data": {
      "text/html": [
       "<div>\n",
       "<style scoped>\n",
       "    .dataframe tbody tr th:only-of-type {\n",
       "        vertical-align: middle;\n",
       "    }\n",
       "\n",
       "    .dataframe tbody tr th {\n",
       "        vertical-align: top;\n",
       "    }\n",
       "\n",
       "    .dataframe thead th {\n",
       "        text-align: right;\n",
       "    }\n",
       "</style>\n",
       "<table border=\"1\" class=\"dataframe\">\n",
       "  <thead>\n",
       "    <tr style=\"text-align: right;\">\n",
       "      <th></th>\n",
       "      <th>kth1</th>\n",
       "      <th>eo1</th>\n",
       "      <th>eo_u1</th>\n",
       "    </tr>\n",
       "  </thead>\n",
       "  <tbody>\n",
       "    <tr>\n",
       "      <th>Shape</th>\n",
       "      <td>(15, 50, 1, 64, 64)</td>\n",
       "      <td>(15, 50, 3, 64, 64)</td>\n",
       "      <td>(15, 50, 3, 64, 64)</td>\n",
       "    </tr>\n",
       "    <tr>\n",
       "      <th>Max</th>\n",
       "      <td>[1.0]</td>\n",
       "      <td>[28.951277, 47.63986, 36.912502]</td>\n",
       "      <td>[1.907, 1.8688, 1.1752]</td>\n",
       "    </tr>\n",
       "    <tr>\n",
       "      <th>Min</th>\n",
       "      <td>[0.011764706]</td>\n",
       "      <td>[-2.7390916, -4.0216584, -4.981337]</td>\n",
       "      <td>[0.0, 0.0, 0.0]</td>\n",
       "    </tr>\n",
       "    <tr>\n",
       "      <th>Mean</th>\n",
       "      <td>[0.61469316]</td>\n",
       "      <td>[0.28564572, 0.2947104, 0.3144054]</td>\n",
       "      <td>[0.1820168, 0.15614001, 0.14855538]</td>\n",
       "    </tr>\n",
       "    <tr>\n",
       "      <th>Variance</th>\n",
       "      <td>[0.043017842]</td>\n",
       "      <td>[2.134563, 2.158881, 2.204485]</td>\n",
       "      <td>[0.0077295825, 0.002825007, 0.0017347226]</td>\n",
       "    </tr>\n",
       "    <tr>\n",
       "      <th>Std</th>\n",
       "      <td>[0.20740743]</td>\n",
       "      <td>[1.4610144, 1.4693131, 1.4847507]</td>\n",
       "      <td>[0.08791804, 0.053150795, 0.04165]</td>\n",
       "    </tr>\n",
       "  </tbody>\n",
       "</table>\n",
       "</div>"
      ],
      "text/plain": [
       "                         kth1                                  eo1  \\\n",
       "Shape     (15, 50, 1, 64, 64)                  (15, 50, 3, 64, 64)   \n",
       "Max                     [1.0]     [28.951277, 47.63986, 36.912502]   \n",
       "Min             [0.011764706]  [-2.7390916, -4.0216584, -4.981337]   \n",
       "Mean             [0.61469316]   [0.28564572, 0.2947104, 0.3144054]   \n",
       "Variance        [0.043017842]       [2.134563, 2.158881, 2.204485]   \n",
       "Std              [0.20740743]    [1.4610144, 1.4693131, 1.4847507]   \n",
       "\n",
       "                                              eo_u1  \n",
       "Shape                           (15, 50, 3, 64, 64)  \n",
       "Max                         [1.907, 1.8688, 1.1752]  \n",
       "Min                                 [0.0, 0.0, 0.0]  \n",
       "Mean            [0.1820168, 0.15614001, 0.14855538]  \n",
       "Variance  [0.0077295825, 0.002825007, 0.0017347226]  \n",
       "Std              [0.08791804, 0.053150795, 0.04165]  "
      ]
     },
     "execution_count": 16,
     "metadata": {},
     "output_type": "execute_result"
    }
   ],
   "source": [
    "pd.DataFrame(stats)"
   ]
  },
  {
   "cell_type": "code",
   "execution_count": 33,
   "id": "a40f79f8",
   "metadata": {},
   "outputs": [],
   "source": [
    "mean = np.full((64,64,3), eo_u_batch.mean(axis=(0,1,3,4))).swapaxes(0,2)"
   ]
  },
  {
   "cell_type": "code",
   "execution_count": 37,
   "id": "cc5e291a",
   "metadata": {},
   "outputs": [],
   "source": [
    "std = np.full((64,64,3), eo_u_batch.std(axis=(0,1,3,4))).swapaxes(0,2)"
   ]
  },
  {
   "cell_type": "code",
   "execution_count": 39,
   "id": "bc3b7a9d",
   "metadata": {},
   "outputs": [],
   "source": [
    "new_b = (eo_u_batch - mean)/std"
   ]
  },
  {
   "cell_type": "code",
   "execution_count": 41,
   "id": "37f61bbd",
   "metadata": {},
   "outputs": [
    {
     "data": {
      "text/plain": [
       "-4.412863e-07"
      ]
     },
     "execution_count": 41,
     "metadata": {},
     "output_type": "execute_result"
    }
   ],
   "source": [
    "new_b.mean()"
   ]
  },
  {
   "cell_type": "code",
   "execution_count": 42,
   "id": "dec127e4",
   "metadata": {},
   "outputs": [
    {
     "data": {
      "text/plain": [
       "1.0000001"
      ]
     },
     "execution_count": 42,
     "metadata": {},
     "output_type": "execute_result"
    }
   ],
   "source": [
    "new_b.std()"
   ]
  },
  {
   "cell_type": "code",
   "execution_count": 43,
   "id": "77e69126",
   "metadata": {},
   "outputs": [
    {
     "data": {
      "text/plain": [
       "32.22266"
      ]
     },
     "execution_count": 43,
     "metadata": {},
     "output_type": "execute_result"
    }
   ],
   "source": [
    "new_b.max()"
   ]
  },
  {
   "cell_type": "code",
   "execution_count": null,
   "id": "662eccc4",
   "metadata": {},
   "outputs": [],
   "source": []
  }
 ],
 "metadata": {
  "kernelspec": {
   "display_name": "Python 3",
   "language": "python",
   "name": "python3"
  },
  "language_info": {
   "codemirror_mode": {
    "name": "ipython",
    "version": 3
   },
   "file_extension": ".py",
   "mimetype": "text/x-python",
   "name": "python",
   "nbconvert_exporter": "python",
   "pygments_lexer": "ipython3",
   "version": "3.7.7"
  }
 },
 "nbformat": 4,
 "nbformat_minor": 5
}
